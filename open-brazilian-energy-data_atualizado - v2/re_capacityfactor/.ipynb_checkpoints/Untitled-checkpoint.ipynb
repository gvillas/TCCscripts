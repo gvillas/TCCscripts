{
 "cells": [
  {
   "cell_type": "markdown",
   "id": "207d1b11",
   "metadata": {},
   "source": [
    "### Desenvolvimento de script para cálculo do FC de fontes EOL e SOL"
   ]
  },
  {
   "cell_type": "code",
   "execution_count": 1,
   "id": "2ce030e0",
   "metadata": {},
   "outputs": [],
   "source": [
    "# 1- Loop para ler os arquivo\n",
    "# 2- Dentro do Loop:\n",
    "#    a) Ajustar coluna de tecnologia\n",
    "#    c) Criar coluna de FC * Capacidade\n",
    "#    b) Agregar dados por hora, estado e tecnologia , fazendo uma média ponderada da capacidade de FC para gerar o FC do estado"
   ]
  },
  {
   "cell_type": "code",
   "execution_count": 21,
   "id": "f3c76c48",
   "metadata": {},
   "outputs": [],
   "source": [
    "import pandas as pd\n",
    "import numpy as np"
   ]
  },
  {
   "cell_type": "code",
   "execution_count": 28,
   "id": "1a3f39a1",
   "metadata": {},
   "outputs": [],
   "source": [
    "# Função auxiliar para média ponderada\n",
    "def media_ponderada(valores, peso):\n",
    "    return np.average(valores, weights=peso)\n",
    "\n",
    "# Define ano dos arquivos de dados (ano que está no nome do arquivo)\n",
    "ano_arquivo_dados_fc = 2023\n",
    "\n",
    "# Tecnologias que serão consideradas para calculo do FC horário por estado\n",
    "tecs = (\"Solar\", \"Eólica\")\n",
    "\n",
    "# Define DataFrame\n",
    "fc_ano_horario = pd.DataFrame()\n",
    "\n",
    "# Loop para cálculo do FC horário\n",
    "for i in range(1, 2):\n",
    "    # Leitura do arquivo de dados\n",
    "    dados_mes_i = pd.read_csv(f'raw/FATOR_CAPACIDADE-2_{ano_arquivo_dados_fc}_{i}.csv', sep=';')\n",
    "    \n",
    "    # Seleção das colunas de interesse\n",
    "    dados_mes_i = dados_mes_i[['id_subsistema', 'id_estado', 'nom_tipousina', 'din_instante', 'val_capacidadeinstalada',\n",
    "                             'val_fatorcapacidade']]  \n",
    "    \n",
    "    # Calcula FC horário por estado e por tecnologia\n",
    "    dados_mes_i = dados_mes_i.groupby(['id_subsistema', 'id_estado', 'nom_tipousina', 'din_instante']).apply(lambda x: pd.Series({\n",
    "        'FC': media_ponderada(x['val_fatorcapacidade'], x['val_capacidadeinstalada'])\n",
    "    }))"
   ]
  },
  {
   "cell_type": "code",
   "execution_count": 34,
   "id": "3142e970",
   "metadata": {},
   "outputs": [],
   "source": [
    "dados_mes_i.to_csv('FC_janeiro.csv')"
   ]
  },
  {
   "cell_type": "code",
   "execution_count": 25,
   "id": "f2815081",
   "metadata": {},
   "outputs": [
    {
     "data": {
      "text/html": [
       "<div>\n",
       "<style scoped>\n",
       "    .dataframe tbody tr th:only-of-type {\n",
       "        vertical-align: middle;\n",
       "    }\n",
       "\n",
       "    .dataframe tbody tr th {\n",
       "        vertical-align: top;\n",
       "    }\n",
       "\n",
       "    .dataframe thead th {\n",
       "        text-align: right;\n",
       "    }\n",
       "</style>\n",
       "<table border=\"1\" class=\"dataframe\">\n",
       "  <thead>\n",
       "    <tr style=\"text-align: right;\">\n",
       "      <th></th>\n",
       "      <th>val_capacidadeinstalada</th>\n",
       "      <th>val_fatorcapacidade</th>\n",
       "    </tr>\n",
       "  </thead>\n",
       "  <tbody>\n",
       "    <tr>\n",
       "      <th>count</th>\n",
       "      <td>111168.000000</td>\n",
       "      <td>111168.000000</td>\n",
       "    </tr>\n",
       "    <tr>\n",
       "      <th>mean</th>\n",
       "      <td>163.031391</td>\n",
       "      <td>0.337468</td>\n",
       "    </tr>\n",
       "    <tr>\n",
       "      <th>std</th>\n",
       "      <td>112.013602</td>\n",
       "      <td>0.262922</td>\n",
       "    </tr>\n",
       "    <tr>\n",
       "      <th>min</th>\n",
       "      <td>23.100000</td>\n",
       "      <td>0.000000</td>\n",
       "    </tr>\n",
       "    <tr>\n",
       "      <th>25%</th>\n",
       "      <td>87.000000</td>\n",
       "      <td>0.111734</td>\n",
       "    </tr>\n",
       "    <tr>\n",
       "      <th>50%</th>\n",
       "      <td>136.400000</td>\n",
       "      <td>0.286457</td>\n",
       "    </tr>\n",
       "    <tr>\n",
       "      <th>75%</th>\n",
       "      <td>209.400000</td>\n",
       "      <td>0.529297</td>\n",
       "    </tr>\n",
       "    <tr>\n",
       "      <th>max</th>\n",
       "      <td>720.150000</td>\n",
       "      <td>2.033333</td>\n",
       "    </tr>\n",
       "  </tbody>\n",
       "</table>\n",
       "</div>"
      ],
      "text/plain": [
       "       val_capacidadeinstalada  val_fatorcapacidade\n",
       "count            111168.000000        111168.000000\n",
       "mean                163.031391             0.337468\n",
       "std                 112.013602             0.262922\n",
       "min                  23.100000             0.000000\n",
       "25%                  87.000000             0.111734\n",
       "50%                 136.400000             0.286457\n",
       "75%                 209.400000             0.529297\n",
       "max                 720.150000             2.033333"
      ]
     },
     "execution_count": 25,
     "metadata": {},
     "output_type": "execute_result"
    }
   ],
   "source": [
    "dados_mes_i_tec.describe()"
   ]
  }
 ],
 "metadata": {
  "kernelspec": {
   "display_name": "Python 3 (ipykernel)",
   "language": "python",
   "name": "python3"
  },
  "language_info": {
   "codemirror_mode": {
    "name": "ipython",
    "version": 3
   },
   "file_extension": ".py",
   "mimetype": "text/x-python",
   "name": "python",
   "nbconvert_exporter": "python",
   "pygments_lexer": "ipython3",
   "version": "3.11.5"
  }
 },
 "nbformat": 4,
 "nbformat_minor": 5
}

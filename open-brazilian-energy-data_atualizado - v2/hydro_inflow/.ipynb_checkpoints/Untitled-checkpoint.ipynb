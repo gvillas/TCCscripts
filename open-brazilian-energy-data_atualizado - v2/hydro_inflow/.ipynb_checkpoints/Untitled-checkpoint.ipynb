{
 "cells": [
  {
   "cell_type": "code",
   "execution_count": 1,
   "id": "dbb7c3eb",
   "metadata": {},
   "outputs": [],
   "source": [
    "import pandas as pd"
   ]
  },
  {
   "cell_type": "code",
   "execution_count": 12,
   "id": "040ecdce",
   "metadata": {},
   "outputs": [
    {
     "data": {
      "text/html": [
       "<div>\n",
       "<style scoped>\n",
       "    .dataframe tbody tr th:only-of-type {\n",
       "        vertical-align: middle;\n",
       "    }\n",
       "\n",
       "    .dataframe tbody tr th {\n",
       "        vertical-align: top;\n",
       "    }\n",
       "\n",
       "    .dataframe thead th {\n",
       "        text-align: right;\n",
       "    }\n",
       "</style>\n",
       "<table border=\"1\" class=\"dataframe\">\n",
       "  <thead>\n",
       "    <tr style=\"text-align: right;\">\n",
       "      <th></th>\n",
       "      <th>Subsistema</th>\n",
       "      <th>Din Instante</th>\n",
       "      <th>Enaarmazenavelmwmes</th>\n",
       "    </tr>\n",
       "    <tr>\n",
       "      <th>index</th>\n",
       "      <th></th>\n",
       "      <th></th>\n",
       "      <th></th>\n",
       "    </tr>\n",
       "  </thead>\n",
       "  <tbody>\n",
       "    <tr>\n",
       "      <th>0</th>\n",
       "      <td>Norte</td>\n",
       "      <td>2023-01-01</td>\n",
       "      <td>17715.675781</td>\n",
       "    </tr>\n",
       "    <tr>\n",
       "      <th>1</th>\n",
       "      <td>Nordeste</td>\n",
       "      <td>2023-01-01</td>\n",
       "      <td>12355.788086</td>\n",
       "    </tr>\n",
       "    <tr>\n",
       "      <th>2</th>\n",
       "      <td>Sul</td>\n",
       "      <td>2023-01-01</td>\n",
       "      <td>6388.172852</td>\n",
       "    </tr>\n",
       "    <tr>\n",
       "      <th>3</th>\n",
       "      <td>Sudeste</td>\n",
       "      <td>2023-01-01</td>\n",
       "      <td>57324.421875</td>\n",
       "    </tr>\n",
       "    <tr>\n",
       "      <th>4</th>\n",
       "      <td>Norte</td>\n",
       "      <td>2023-01-02</td>\n",
       "      <td>18558.996094</td>\n",
       "    </tr>\n",
       "  </tbody>\n",
       "</table>\n",
       "</div>"
      ],
      "text/plain": [
       "      Subsistema Din Instante  Enaarmazenavelmwmes\n",
       "index                                             \n",
       "0          Norte   2023-01-01         17715.675781\n",
       "1       Nordeste   2023-01-01         12355.788086\n",
       "2            Sul   2023-01-01          6388.172852\n",
       "3        Sudeste   2023-01-01         57324.421875\n",
       "4          Norte   2023-01-02         18558.996094"
      ]
     },
     "execution_count": 12,
     "metadata": {},
     "output_type": "execute_result"
    }
   ],
   "source": [
    "df = pd.read_csv(\"C:\\\\Users\\\\gabrielvillas\\\\Downloads\\\\ENA_DIARIO_SUBSISTEMA_2023.csv\", sep=\";\")\n",
    "df = df[['nom_subsistema', 'ena_data','ena_bruta_regiao_mwmed']]\n",
    "df.index.name = 'index'\n",
    "df.rename(columns={df.columns[0]: 'Subsistema', df.columns[1]: 'Din Instante', df.columns[2]: 'Enaarmazenavelmwmes'}, inplace=True)\n",
    "rule = {'SUDESTE':'Sudeste', 'NORTE':'Norte', 'NORDESTE':'Nordeste', 'SUL':'Sul'}\n",
    "df['Subsistema'] = df['Subsistema'].replace(rule)\n",
    "df['Din Instante'] = pd.to_datetime(df['Din Instante'], format='%Y-%m-%d %H:%M:%S')\n",
    "df['Din Instante'] = df['Din Instante'].dt.strftime('%d.%m.%Y %H:%M:%S')\n",
    "df.head()"
   ]
  }
 ],
 "metadata": {
  "kernelspec": {
   "display_name": "Python 3 (ipykernel)",
   "language": "python",
   "name": "python3"
  },
  "language_info": {
   "codemirror_mode": {
    "name": "ipython",
    "version": 3
   },
   "file_extension": ".py",
   "mimetype": "text/x-python",
   "name": "python",
   "nbconvert_exporter": "python",
   "pygments_lexer": "ipython3",
   "version": "3.11.5"
  }
 },
 "nbformat": 4,
 "nbformat_minor": 5
}

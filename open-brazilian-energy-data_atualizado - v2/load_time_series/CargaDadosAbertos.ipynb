{
 "cells": [
  {
   "cell_type": "code",
   "execution_count": 2,
   "id": "4f02b2ce",
   "metadata": {},
   "outputs": [],
   "source": [
    "import pandas as pd"
   ]
  },
  {
   "cell_type": "code",
   "execution_count": 19,
   "id": "5bcf08cd",
   "metadata": {},
   "outputs": [
    {
     "data": {
      "text/html": [
       "<div>\n",
       "<style scoped>\n",
       "    .dataframe tbody tr th:only-of-type {\n",
       "        vertical-align: middle;\n",
       "    }\n",
       "\n",
       "    .dataframe tbody tr th {\n",
       "        vertical-align: top;\n",
       "    }\n",
       "\n",
       "    .dataframe thead th {\n",
       "        text-align: right;\n",
       "    }\n",
       "</style>\n",
       "<table border=\"1\" class=\"dataframe\">\n",
       "  <thead>\n",
       "    <tr style=\"text-align: right;\">\n",
       "      <th></th>\n",
       "      <th>Subsistema</th>\n",
       "      <th>Din Instante</th>\n",
       "      <th>Val Cargaenergiaconmwmed</th>\n",
       "    </tr>\n",
       "    <tr>\n",
       "      <th>index</th>\n",
       "      <th></th>\n",
       "      <th></th>\n",
       "      <th></th>\n",
       "    </tr>\n",
       "  </thead>\n",
       "  <tbody>\n",
       "    <tr>\n",
       "      <th>0</th>\n",
       "      <td>N</td>\n",
       "      <td>01.01.2023 00.00.00</td>\n",
       "      <td>5990.553</td>\n",
       "    </tr>\n",
       "    <tr>\n",
       "      <th>1</th>\n",
       "      <td>NE</td>\n",
       "      <td>01.01.2023 00.00.00</td>\n",
       "      <td>10455.818</td>\n",
       "    </tr>\n",
       "    <tr>\n",
       "      <th>2</th>\n",
       "      <td>S</td>\n",
       "      <td>01.01.2023 00.00.00</td>\n",
       "      <td>10273.827</td>\n",
       "    </tr>\n",
       "    <tr>\n",
       "      <th>3</th>\n",
       "      <td>SE</td>\n",
       "      <td>01.01.2023 00.00.00</td>\n",
       "      <td>32183.885</td>\n",
       "    </tr>\n",
       "    <tr>\n",
       "      <th>4</th>\n",
       "      <td>N</td>\n",
       "      <td>01.01.2023 01.00.00</td>\n",
       "      <td>5981.216</td>\n",
       "    </tr>\n",
       "  </tbody>\n",
       "</table>\n",
       "</div>"
      ],
      "text/plain": [
       "      Subsistema         Din Instante  Val Cargaenergiaconmwmed\n",
       "index                                                          \n",
       "0              N  01.01.2023 00.00.00                  5990.553\n",
       "1             NE  01.01.2023 00.00.00                 10455.818\n",
       "2              S  01.01.2023 00.00.00                 10273.827\n",
       "3             SE  01.01.2023 00.00.00                 32183.885\n",
       "4              N  01.01.2023 01.00.00                  5981.216"
      ]
     },
     "execution_count": 19,
     "metadata": {},
     "output_type": "execute_result"
    }
   ],
   "source": [
    "df = pd.read_csv(\"C:\\\\Users\\\\gabrielvillas\\\\Downloads\\\\CURVA_CARGA_2023.csv\", sep=\";\")\n",
    "df.index.name = 'index'\n",
    "df.drop(\"nom_subsistema\", axis=1, inplace=True)\n",
    "df['din_instante'] = pd.to_datetime(df['din_instante'], format='%Y-%m-%d %H:%M:%S')\n",
    "df['din_instante'] = df['din_instante'].dt.strftime('%d.%m.%Y %H.%M.%S')\n",
    "df.rename(columns={df.columns[0]: 'Subsistema', df.columns[1]: 'Din Instante', df.columns[2]: 'Val Cargaenergiaconmwmed'}, inplace=True)\n",
    "df.head()"
   ]
  },
  {
   "cell_type": "code",
   "execution_count": 14,
   "id": "eb2108e1",
   "metadata": {},
   "outputs": [
    {
     "data": {
      "text/html": [
       "<div>\n",
       "<style scoped>\n",
       "    .dataframe tbody tr th:only-of-type {\n",
       "        vertical-align: middle;\n",
       "    }\n",
       "\n",
       "    .dataframe tbody tr th {\n",
       "        vertical-align: top;\n",
       "    }\n",
       "\n",
       "    .dataframe thead th {\n",
       "        text-align: right;\n",
       "    }\n",
       "</style>\n",
       "<table border=\"1\" class=\"dataframe\">\n",
       "  <thead>\n",
       "    <tr style=\"text-align: right;\">\n",
       "      <th></th>\n",
       "      <th>Subsistema</th>\n",
       "      <th>Val Cargaenergiaconmwmed</th>\n",
       "      <th>val_cargaenergiahomwmed</th>\n",
       "    </tr>\n",
       "    <tr>\n",
       "      <th>index</th>\n",
       "      <th></th>\n",
       "      <th></th>\n",
       "      <th></th>\n",
       "    </tr>\n",
       "  </thead>\n",
       "  <tbody>\n",
       "    <tr>\n",
       "      <th>35035</th>\n",
       "      <td>SE</td>\n",
       "      <td>2023-12-31 22:00:00</td>\n",
       "      <td>38135.522</td>\n",
       "    </tr>\n",
       "    <tr>\n",
       "      <th>35036</th>\n",
       "      <td>N</td>\n",
       "      <td>2023-12-31 23:00:00</td>\n",
       "      <td>6641.410</td>\n",
       "    </tr>\n",
       "    <tr>\n",
       "      <th>35037</th>\n",
       "      <td>NE</td>\n",
       "      <td>2023-12-31 23:00:00</td>\n",
       "      <td>12144.917</td>\n",
       "    </tr>\n",
       "    <tr>\n",
       "      <th>35038</th>\n",
       "      <td>S</td>\n",
       "      <td>2023-12-31 23:00:00</td>\n",
       "      <td>10365.647</td>\n",
       "    </tr>\n",
       "    <tr>\n",
       "      <th>35039</th>\n",
       "      <td>SE</td>\n",
       "      <td>2023-12-31 23:00:00</td>\n",
       "      <td>36060.076</td>\n",
       "    </tr>\n",
       "  </tbody>\n",
       "</table>\n",
       "</div>"
      ],
      "text/plain": [
       "      Subsistema Val Cargaenergiaconmwmed  val_cargaenergiahomwmed\n",
       "index                                                             \n",
       "35035         SE      2023-12-31 22:00:00                38135.522\n",
       "35036          N      2023-12-31 23:00:00                 6641.410\n",
       "35037         NE      2023-12-31 23:00:00                12144.917\n",
       "35038          S      2023-12-31 23:00:00                10365.647\n",
       "35039         SE      2023-12-31 23:00:00                36060.076"
      ]
     },
     "execution_count": 14,
     "metadata": {},
     "output_type": "execute_result"
    }
   ],
   "source": [
    "df.tail()"
   ]
  }
 ],
 "metadata": {
  "kernelspec": {
   "display_name": "Python 3 (ipykernel)",
   "language": "python",
   "name": "python3"
  },
  "language_info": {
   "codemirror_mode": {
    "name": "ipython",
    "version": 3
   },
   "file_extension": ".py",
   "mimetype": "text/x-python",
   "name": "python",
   "nbconvert_exporter": "python",
   "pygments_lexer": "ipython3",
   "version": "3.11.5"
  }
 },
 "nbformat": 4,
 "nbformat_minor": 5
}
